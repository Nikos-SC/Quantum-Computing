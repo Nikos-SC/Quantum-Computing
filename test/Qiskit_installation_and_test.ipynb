{
 "cells": [
  {
   "cell_type": "markdown",
   "metadata": {},
   "source": [
    "<table> <tr>\n",
    "        <td  style=\"background-color:#ffffff;\"><a href=\"http://qworld.lu.lv/\" target=\"_blank\"><img src=\"../images/qworld.jpg\" width=\"25%\" align=\"left\"></a></td>\n",
    "        <td  style=\"background-color:#ffffff;vertical-align:bottom;\">\n",
    "            prepared by Abuzer Yakaryilmaz (<a href=\"http://qworld.lu.lv/index.php/qlatvia/\" target=\"_blank\">QLatvia</a>)\n",
    "        </td>        \n",
    "</tr></table>"
   ]
  },
  {
   "cell_type": "markdown",
   "metadata": {},
   "source": [
    "<table width=\"100%\"><tr><td style=\"color:#bbbbbb;background-color:#ffffff;font-size:11px;font-style:italic;text-align:right;\">This cell contains some macros. If there is a problem with displaying mathematical formulas, please run this cell to load these macros. </td></tr></table>\n",
    "$ \\newcommand{\\bra}[1]{\\langle #1|} $\n",
    "$ \\newcommand{\\ket}[1]{|#1\\rangle} $\n",
    "$ \\newcommand{\\braket}[2]{\\langle #1|#2\\rangle} $\n",
    "$ \\newcommand{\\dot}[2]{ #1 \\cdot #2} $\n",
    "$ \\newcommand{\\biginner}[2]{\\left\\langle #1,#2\\right\\rangle} $\n",
    "$ \\newcommand{\\mymatrix}[2]{\\left( \\begin{array}{#1} #2\\end{array} \\right)} $\n",
    "$ \\newcommand{\\myvector}[1]{\\mymatrix{c}{#1}} $\n",
    "$ \\newcommand{\\myrvector}[1]{\\mymatrix{r}{#1}} $\n",
    "$ \\newcommand{\\mypar}[1]{\\left( #1 \\right)} $\n",
    "$ \\newcommand{\\mybigpar}[1]{ \\Big( #1 \\Big)} $\n",
    "$ \\newcommand{\\sqrttwo}{\\frac{1}{\\sqrt{2}}} $\n",
    "$ \\newcommand{\\dsqrttwo}{\\dfrac{1}{\\sqrt{2}}} $\n",
    "$ \\newcommand{\\onehalf}{\\frac{1}{2}} $\n",
    "$ \\newcommand{\\donehalf}{\\dfrac{1}{2}} $\n",
    "$ \\newcommand{\\hadamard}{ \\mymatrix{rr}{ \\sqrttwo & \\sqrttwo \\\\ \\sqrttwo & -\\sqrttwo }} $\n",
    "$ \\newcommand{\\vzero}{\\myvector{1\\\\0}} $\n",
    "$ \\newcommand{\\vone}{\\myvector{0\\\\1}} $\n",
    "$ \\newcommand{\\vhadamardzero}{\\myvector{ \\sqrttwo \\\\  \\sqrttwo } } $\n",
    "$ \\newcommand{\\vhadamardone}{ \\myrvector{ \\sqrttwo \\\\ -\\sqrttwo } } $\n",
    "$ \\newcommand{\\myarray}[2]{ \\begin{array}{#1}#2\\end{array}} $\n",
    "$ \\newcommand{\\X}{ \\mymatrix{cc}{0 & 1 \\\\ 1 & 0}  } $\n",
    "$ \\newcommand{\\Z}{ \\mymatrix{rr}{1 & 0 \\\\ 0 & -1}  } $\n",
    "$ \\newcommand{\\Htwo}{ \\mymatrix{rrrr}{ \\frac{1}{2} & \\frac{1}{2} & \\frac{1}{2} & \\frac{1}{2} \\\\ \\frac{1}{2} & -\\frac{1}{2} & \\frac{1}{2} & -\\frac{1}{2} \\\\ \\frac{1}{2} & \\frac{1}{2} & -\\frac{1}{2} & -\\frac{1}{2} \\\\ \\frac{1}{2} & -\\frac{1}{2} & -\\frac{1}{2} & \\frac{1}{2} } } $\n",
    "$ \\newcommand{\\CNOT}{ \\mymatrix{cccc}{1 & 0 & 0 & 0 \\\\ 0 & 1 & 0 & 0 \\\\ 0 & 0 & 0 & 1 \\\\ 0 & 0 & 1 & 0} } $\n",
    "$ \\newcommand{\\norm}[1]{ \\left\\lVert #1 \\right\\rVert } $\n",
    "$ \\newcommand{\\pstate}[1]{ \\lceil \\mspace{-1mu} #1 \\mspace{-1.5mu} \\rfloor } $"
   ]
  },
  {
   "cell_type": "markdown",
   "metadata": {},
   "source": [
    "## Qiskit installation and test\n",
    "\n",
    "- [Check your system](#check)\n",
    "- [Install qiskit](#install)\n",
    "- [Tips](#tips)\n",
    "- [Execute an example quantum program](#test)"
   ]
  },
  {
   "cell_type": "markdown",
   "metadata": {},
   "source": [
    "<hr id=\"check\">\n",
    "\n",
    "### Check your system\n",
    "\n",
    "Check your system, if Qiskit has already been installed:"
   ]
  },
  {
   "cell_type": "code",
   "execution_count": 1,
   "metadata": {},
   "outputs": [
    {
     "ename": "ModuleNotFoundError",
     "evalue": "No module named 'qiskit'",
     "output_type": "error",
     "traceback": [
      "\u001b[0;31m---------------------------------------------------------------------------\u001b[0m",
      "\u001b[0;31mModuleNotFoundError\u001b[0m                       Traceback (most recent call last)",
      "\u001b[0;32m<ipython-input-1-e8d9a1b10292>\u001b[0m in \u001b[0;36m<module>\u001b[0;34m\u001b[0m\n\u001b[0;32m----> 1\u001b[0;31m \u001b[0;32mimport\u001b[0m \u001b[0mqiskit\u001b[0m\u001b[0;34m\u001b[0m\u001b[0;34m\u001b[0m\u001b[0m\n\u001b[0m\u001b[1;32m      2\u001b[0m \u001b[0mversions\u001b[0m \u001b[0;34m=\u001b[0m \u001b[0mqiskit\u001b[0m\u001b[0;34m.\u001b[0m\u001b[0m__qiskit_version__\u001b[0m\u001b[0;34m\u001b[0m\u001b[0;34m\u001b[0m\u001b[0m\n\u001b[1;32m      3\u001b[0m \u001b[0mprint\u001b[0m\u001b[0;34m(\u001b[0m\u001b[0;34m\"The version of Qiskit is\"\u001b[0m\u001b[0;34m,\u001b[0m\u001b[0mversions\u001b[0m\u001b[0;34m[\u001b[0m\u001b[0;34m'qiskit'\u001b[0m\u001b[0;34m]\u001b[0m\u001b[0;34m)\u001b[0m\u001b[0;34m\u001b[0m\u001b[0;34m\u001b[0m\u001b[0m\n\u001b[1;32m      4\u001b[0m \u001b[0mprint\u001b[0m\u001b[0;34m(\u001b[0m\u001b[0;34m)\u001b[0m\u001b[0;34m\u001b[0m\u001b[0;34m\u001b[0m\u001b[0m\n\u001b[1;32m      5\u001b[0m \u001b[0mprint\u001b[0m\u001b[0;34m(\u001b[0m\u001b[0;34m\"The version of each component:\"\u001b[0m\u001b[0;34m)\u001b[0m\u001b[0;34m\u001b[0m\u001b[0;34m\u001b[0m\u001b[0m\n",
      "\u001b[0;31mModuleNotFoundError\u001b[0m: No module named 'qiskit'"
     ]
    }
   ],
   "source": [
    "import qiskit\n",
    "versions = qiskit.__qiskit_version__\n",
    "print(\"The version of Qiskit is\",versions['qiskit'])\n",
    "print()\n",
    "print(\"The version of each component:\")\n",
    "for key in versions:\n",
    "    print(key,\"->\",versions[key])"
   ]
  },
  {
   "cell_type": "markdown",
   "metadata": {},
   "source": [
    "**You should be able to see the version number of any library that is already installed in your system.**"
   ]
  },
  {
   "cell_type": "markdown",
   "metadata": {},
   "source": [
    "<hr id=\"install\">\n",
    "\n",
    "### Install qiskit\n",
    "\n",
    "(If you are an experienced user, visit this link: https://github.com/Qiskit/qiskit-tutorials/blob/master/INSTALL.md)\n",
    "\n",
    "You can install Qiskit by executing the following cell:"
   ]
  },
  {
   "cell_type": "code",
   "execution_count": 2,
   "metadata": {},
   "outputs": [
    {
     "name": "stdout",
     "output_type": "stream",
     "text": [
      "Processing /home/adam/.cache/pip/wheels/63/30/90/680e1de2f1816028403f2ea294152bb0e143440c6b2e28368d/qiskit-0.23.1-py3-none-any.whl\n",
      "Collecting qiskit-aer==0.7.1\n",
      "  Using cached qiskit_aer-0.7.1-cp38-cp38-manylinux2010_x86_64.whl (17.5 MB)\n",
      "Collecting qiskit-aqua==0.8.1\n",
      "  Using cached qiskit_aqua-0.8.1-py3-none-any.whl (2.1 MB)\n",
      "Collecting qiskit-ignis==0.5.1\n",
      "  Using cached qiskit_ignis-0.5.1-py3-none-any.whl (204 kB)\n",
      "Collecting qiskit-ibmq-provider==0.11.1\n",
      "  Using cached qiskit_ibmq_provider-0.11.1-py3-none-any.whl (195 kB)\n",
      "Collecting qiskit-terra==0.16.1\n",
      "  Using cached qiskit_terra-0.16.1-cp38-cp38-manylinux2010_x86_64.whl (8.6 MB)\n",
      "Collecting seaborn>=0.9.0; extra == \"visualization\"\n",
      "  Using cached seaborn-0.11.0-py3-none-any.whl (283 kB)\n",
      "Collecting matplotlib>=2.1; extra == \"visualization\"\n",
      "  Using cached matplotlib-3.3.3-cp38-cp38-manylinux1_x86_64.whl (11.6 MB)\n",
      "Processing /home/adam/.cache/pip/wheels/0c/40/cf/9346d76550d875ccb829bc5076927ad484caed8d85c9ffa225/pylatexenc-2.8-py3-none-any.whl\n",
      "Collecting pillow>=4.2.1; extra == \"visualization\"\n",
      "  Using cached Pillow-8.0.1-cp38-cp38-manylinux1_x86_64.whl (2.2 MB)\n",
      "Collecting pydot; extra == \"visualization\"\n",
      "  Using cached pydot-1.4.1-py2.py3-none-any.whl (19 kB)\n",
      "Requirement already satisfied: ipywidgets>=7.3.0; extra == \"visualization\" in /home/adam/anaconda3/envs/qiskit_test2/lib/python3.8/site-packages (from qiskit[visualization]) (7.5.1)\n",
      "Requirement already satisfied: pygments>=2.4; extra == \"visualization\" in /home/adam/anaconda3/envs/qiskit_test2/lib/python3.8/site-packages (from qiskit[visualization]) (2.7.2)\n",
      "Collecting cython>=0.27.1\n",
      "  Using cached Cython-0.29.21-cp38-cp38-manylinux1_x86_64.whl (1.9 MB)\n",
      "Collecting scipy>=1.0\n",
      "  Using cached scipy-1.5.4-cp38-cp38-manylinux1_x86_64.whl (25.8 MB)\n",
      "Collecting pybind11>=2.4\n",
      "  Using cached pybind11-2.6.1-py2.py3-none-any.whl (188 kB)\n",
      "Collecting numpy>=1.16.3\n",
      "  Using cached numpy-1.19.4-cp38-cp38-manylinux2010_x86_64.whl (14.5 MB)\n",
      "Collecting sympy>=1.3\n",
      "  Using cached sympy-1.6.2-py3-none-any.whl (5.8 MB)\n",
      "Processing /home/adam/.cache/pip/wheels/04/98/cc/2702a4242d60bdc14f48b4557c427ded1fe92aedf257d4565c/yfinance-0.1.55-py2.py3-none-any.whl\n",
      "Collecting scikit-learn>=0.20.0\n",
      "  Using cached scikit_learn-0.23.2-cp38-cp38-manylinux1_x86_64.whl (6.8 MB)\n",
      "Processing /home/adam/.cache/pip/wheels/e9/ac/30/c962f9d759dd68cb5482727c44441fdfb48040fdbe983857e8/fastdtw-0.3.4-py3-none-any.whl\n",
      "Collecting pandas\n",
      "  Using cached pandas-1.1.4-cp38-cp38-manylinux1_x86_64.whl (9.3 MB)\n",
      "Processing /home/adam/.cache/pip/wheels/f6/59/c2/38111ef4c354088a156bc95fbeb5396c0cac91a0f62f7158b9/psutil-5.7.3-cp38-cp38-linux_x86_64.whl\n",
      "Collecting quandl\n",
      "  Using cached Quandl-3.5.3-py2.py3-none-any.whl (25 kB)\n",
      "Processing /home/adam/.cache/pip/wheels/64/24/02/89f55a490b8c9c36a0042309a8821c122987be3fd2389939cd/docplex-2.16.196-py3-none-any.whl\n",
      "Collecting retworkx>=0.5.0\n",
      "  Using cached retworkx-0.6.0-cp38-cp38-manylinux2010_x86_64.whl (1.3 MB)\n",
      "Processing /home/adam/.cache/pip/wheels/c4/03/f9/7afbf40e0c3d6928d16bcadb46264a6e68704998ec72f7ea13/dlx-1.0.4-py3-none-any.whl\n",
      "Requirement already satisfied: setuptools>=40.1.0 in /home/adam/anaconda3/envs/qiskit_test2/lib/python3.8/site-packages (from qiskit-aqua==0.8.1->qiskit[visualization]) (50.3.1.post20201107)\n",
      "Collecting h5py\n",
      "  Using cached h5py-3.1.0-cp38-cp38-manylinux1_x86_64.whl (4.4 MB)\n",
      "Collecting websockets>=8\n",
      "  Using cached websockets-8.1-cp38-cp38-manylinux2010_x86_64.whl (78 kB)\n",
      "Collecting requests-ntlm>=1.1.0\n",
      "  Using cached requests_ntlm-1.1.0-py2.py3-none-any.whl (5.7 kB)\n",
      "Requirement already satisfied: nest-asyncio!=1.1.0,>=1.0.0 in /home/adam/anaconda3/envs/qiskit_test2/lib/python3.8/site-packages (from qiskit-ibmq-provider==0.11.1->qiskit[visualization]) (1.4.2)\n",
      "Requirement already satisfied: python-dateutil>=2.8.0 in /home/adam/anaconda3/envs/qiskit_test2/lib/python3.8/site-packages (from qiskit-ibmq-provider==0.11.1->qiskit[visualization]) (2.8.1)\n",
      "Collecting requests>=2.19\n",
      "  Using cached requests-2.25.0-py2.py3-none-any.whl (61 kB)\n",
      "Collecting urllib3>=1.21.1\n",
      "  Using cached urllib3-1.26.2-py2.py3-none-any.whl (136 kB)\n",
      "Collecting ply>=3.10\n",
      "  Using cached ply-3.11-py2.py3-none-any.whl (49 kB)\n",
      "Collecting networkx>=2.2\n",
      "  Using cached networkx-2.5-py3-none-any.whl (1.6 MB)\n",
      "Requirement already satisfied: jsonschema>=2.6 in /home/adam/anaconda3/envs/qiskit_test2/lib/python3.8/site-packages (from qiskit-terra==0.16.1->qiskit[visualization]) (3.2.0)\n",
      "Collecting dill>=0.3\n",
      "  Using cached dill-0.3.3-py2.py3-none-any.whl (81 kB)\n",
      "Collecting fastjsonschema>=2.10\n",
      "  Using cached fastjsonschema-2.14.5-py3-none-any.whl (21 kB)\n",
      "Processing /home/adam/.cache/pip/wheels/34/31/15/7b070b25d0a549d20ce2e9fe6d727471c2c61ef904720fd40c/python_constraint-1.4.0-py2.py3-none-any.whl\n",
      "Requirement already satisfied: pyparsing!=2.0.4,!=2.1.2,!=2.1.6,>=2.0.3 in /home/adam/anaconda3/envs/qiskit_test2/lib/python3.8/site-packages (from matplotlib>=2.1; extra == \"visualization\"->qiskit[visualization]) (2.4.7)\n",
      "Collecting kiwisolver>=1.0.1\n",
      "  Using cached kiwisolver-1.3.1-cp38-cp38-manylinux1_x86_64.whl (1.2 MB)\n",
      "Collecting cycler>=0.10\n",
      "  Using cached cycler-0.10.0-py2.py3-none-any.whl (6.5 kB)\n",
      "Requirement already satisfied: ipykernel>=4.5.1 in /home/adam/anaconda3/envs/qiskit_test2/lib/python3.8/site-packages (from ipywidgets>=7.3.0; extra == \"visualization\"->qiskit[visualization]) (5.3.4)\n",
      "Requirement already satisfied: nbformat>=4.2.0 in /home/adam/anaconda3/envs/qiskit_test2/lib/python3.8/site-packages (from ipywidgets>=7.3.0; extra == \"visualization\"->qiskit[visualization]) (5.0.8)\n",
      "Requirement already satisfied: ipython>=4.0.0; python_version >= \"3.3\" in /home/adam/anaconda3/envs/qiskit_test2/lib/python3.8/site-packages (from ipywidgets>=7.3.0; extra == \"visualization\"->qiskit[visualization]) (7.19.0)\n",
      "Requirement already satisfied: widgetsnbextension~=3.5.0 in /home/adam/anaconda3/envs/qiskit_test2/lib/python3.8/site-packages (from ipywidgets>=7.3.0; extra == \"visualization\"->qiskit[visualization]) (3.5.1)\n",
      "Requirement already satisfied: traitlets>=4.3.1 in /home/adam/anaconda3/envs/qiskit_test2/lib/python3.8/site-packages (from ipywidgets>=7.3.0; extra == \"visualization\"->qiskit[visualization]) (5.0.5)\n",
      "Processing /home/adam/.cache/pip/wheels/29/2c/1c/d2e4580cde2743b0aef389e936ac21a2db92921ddbca53faa1/mpmath-1.1.0-py3-none-any.whl\n",
      "Collecting lxml>=4.5.1\n",
      "  Using cached lxml-4.6.1-cp38-cp38-manylinux1_x86_64.whl (5.4 MB)\n",
      "Processing /home/adam/.cache/pip/wheels/57/6d/a3/a39b839cc75274d2acfb1c58bfead2f726c6577fe8c4723f13/multitasking-0.0.9-py3-none-any.whl\n",
      "Collecting joblib>=0.11\n",
      "  Using cached joblib-0.17.0-py3-none-any.whl (301 kB)\n",
      "Collecting threadpoolctl>=2.0.0\n",
      "  Using cached threadpoolctl-2.1.0-py3-none-any.whl (12 kB)\n",
      "Collecting pytz>=2017.2\n",
      "  Using cached pytz-2020.4-py2.py3-none-any.whl (509 kB)\n",
      "Collecting more-itertools\n",
      "  Using cached more_itertools-8.6.0-py3-none-any.whl (45 kB)\n",
      "Requirement already satisfied: six in /home/adam/anaconda3/envs/qiskit_test2/lib/python3.8/site-packages (from quandl->qiskit-aqua==0.8.1->qiskit[visualization]) (1.15.0)\n",
      "Collecting inflection>=0.3.1\n",
      "  Using cached inflection-0.5.1-py2.py3-none-any.whl (9.5 kB)\n",
      "Collecting cryptography>=1.3\n",
      "  Using cached cryptography-3.2.1-cp35-abi3-manylinux2010_x86_64.whl (2.6 MB)\n",
      "Collecting ntlm-auth>=1.0.2\n",
      "  Using cached ntlm_auth-1.5.0-py2.py3-none-any.whl (29 kB)\n",
      "Collecting idna<3,>=2.5\n",
      "  Using cached idna-2.10-py2.py3-none-any.whl (58 kB)\n",
      "Collecting chardet<4,>=3.0.2\n",
      "  Using cached chardet-3.0.4-py2.py3-none-any.whl (133 kB)\n",
      "Requirement already satisfied: certifi>=2017.4.17 in /home/adam/anaconda3/envs/qiskit_test2/lib/python3.8/site-packages (from requests>=2.19->qiskit-ibmq-provider==0.11.1->qiskit[visualization]) (2020.6.20)\n",
      "Requirement already satisfied: decorator>=4.3.0 in /home/adam/anaconda3/envs/qiskit_test2/lib/python3.8/site-packages (from networkx>=2.2->qiskit-terra==0.16.1->qiskit[visualization]) (4.4.2)\n",
      "Requirement already satisfied: attrs>=17.4.0 in /home/adam/anaconda3/envs/qiskit_test2/lib/python3.8/site-packages (from jsonschema>=2.6->qiskit-terra==0.16.1->qiskit[visualization]) (20.3.0)\n",
      "Requirement already satisfied: pyrsistent>=0.14.0 in /home/adam/anaconda3/envs/qiskit_test2/lib/python3.8/site-packages (from jsonschema>=2.6->qiskit-terra==0.16.1->qiskit[visualization]) (0.17.3)\n",
      "Requirement already satisfied: jupyter-client in /home/adam/anaconda3/envs/qiskit_test2/lib/python3.8/site-packages (from ipykernel>=4.5.1->ipywidgets>=7.3.0; extra == \"visualization\"->qiskit[visualization]) (6.1.7)\n",
      "Requirement already satisfied: tornado>=4.2 in /home/adam/anaconda3/envs/qiskit_test2/lib/python3.8/site-packages (from ipykernel>=4.5.1->ipywidgets>=7.3.0; extra == \"visualization\"->qiskit[visualization]) (6.0.4)\n",
      "Requirement already satisfied: ipython-genutils in /home/adam/anaconda3/envs/qiskit_test2/lib/python3.8/site-packages (from nbformat>=4.2.0->ipywidgets>=7.3.0; extra == \"visualization\"->qiskit[visualization]) (0.2.0)\n",
      "Requirement already satisfied: jupyter-core in /home/adam/anaconda3/envs/qiskit_test2/lib/python3.8/site-packages (from nbformat>=4.2.0->ipywidgets>=7.3.0; extra == \"visualization\"->qiskit[visualization]) (4.6.3)\n",
      "Requirement already satisfied: jedi>=0.10 in /home/adam/anaconda3/envs/qiskit_test2/lib/python3.8/site-packages (from ipython>=4.0.0; python_version >= \"3.3\"->ipywidgets>=7.3.0; extra == \"visualization\"->qiskit[visualization]) (0.17.2)\n",
      "Requirement already satisfied: pexpect>4.3; sys_platform != \"win32\" in /home/adam/anaconda3/envs/qiskit_test2/lib/python3.8/site-packages (from ipython>=4.0.0; python_version >= \"3.3\"->ipywidgets>=7.3.0; extra == \"visualization\"->qiskit[visualization]) (4.8.0)\n",
      "Requirement already satisfied: prompt-toolkit!=3.0.0,!=3.0.1,<3.1.0,>=2.0.0 in /home/adam/anaconda3/envs/qiskit_test2/lib/python3.8/site-packages (from ipython>=4.0.0; python_version >= \"3.3\"->ipywidgets>=7.3.0; extra == \"visualization\"->qiskit[visualization]) (3.0.8)\n",
      "Requirement already satisfied: backcall in /home/adam/anaconda3/envs/qiskit_test2/lib/python3.8/site-packages (from ipython>=4.0.0; python_version >= \"3.3\"->ipywidgets>=7.3.0; extra == \"visualization\"->qiskit[visualization]) (0.2.0)\n",
      "Requirement already satisfied: pickleshare in /home/adam/anaconda3/envs/qiskit_test2/lib/python3.8/site-packages (from ipython>=4.0.0; python_version >= \"3.3\"->ipywidgets>=7.3.0; extra == \"visualization\"->qiskit[visualization]) (0.7.5)\n",
      "Requirement already satisfied: notebook>=4.4.1 in /home/adam/anaconda3/envs/qiskit_test2/lib/python3.8/site-packages (from widgetsnbextension~=3.5.0->ipywidgets>=7.3.0; extra == \"visualization\"->qiskit[visualization]) (6.1.4)\n"
     ]
    },
    {
     "name": "stdout",
     "output_type": "stream",
     "text": [
      "Requirement already satisfied: cffi!=1.11.3,>=1.8 in /home/adam/anaconda3/envs/qiskit_test2/lib/python3.8/site-packages (from cryptography>=1.3->requests-ntlm>=1.1.0->qiskit-ibmq-provider==0.11.1->qiskit[visualization]) (1.14.3)\n",
      "Requirement already satisfied: pyzmq>=13 in /home/adam/anaconda3/envs/qiskit_test2/lib/python3.8/site-packages (from jupyter-client->ipykernel>=4.5.1->ipywidgets>=7.3.0; extra == \"visualization\"->qiskit[visualization]) (19.0.2)\n",
      "Requirement already satisfied: parso<0.8.0,>=0.7.0 in /home/adam/anaconda3/envs/qiskit_test2/lib/python3.8/site-packages (from jedi>=0.10->ipython>=4.0.0; python_version >= \"3.3\"->ipywidgets>=7.3.0; extra == \"visualization\"->qiskit[visualization]) (0.7.0)\n",
      "Requirement already satisfied: ptyprocess>=0.5 in /home/adam/anaconda3/envs/qiskit_test2/lib/python3.8/site-packages (from pexpect>4.3; sys_platform != \"win32\"->ipython>=4.0.0; python_version >= \"3.3\"->ipywidgets>=7.3.0; extra == \"visualization\"->qiskit[visualization]) (0.6.0)\n",
      "Requirement already satisfied: wcwidth in /home/adam/anaconda3/envs/qiskit_test2/lib/python3.8/site-packages (from prompt-toolkit!=3.0.0,!=3.0.1,<3.1.0,>=2.0.0->ipython>=4.0.0; python_version >= \"3.3\"->ipywidgets>=7.3.0; extra == \"visualization\"->qiskit[visualization]) (0.2.5)\n",
      "Requirement already satisfied: nbconvert in /home/adam/anaconda3/envs/qiskit_test2/lib/python3.8/site-packages (from notebook>=4.4.1->widgetsnbextension~=3.5.0->ipywidgets>=7.3.0; extra == \"visualization\"->qiskit[visualization]) (6.0.7)\n",
      "Requirement already satisfied: jinja2 in /home/adam/anaconda3/envs/qiskit_test2/lib/python3.8/site-packages (from notebook>=4.4.1->widgetsnbextension~=3.5.0->ipywidgets>=7.3.0; extra == \"visualization\"->qiskit[visualization]) (2.11.2)\n",
      "Requirement already satisfied: prometheus-client in /home/adam/anaconda3/envs/qiskit_test2/lib/python3.8/site-packages (from notebook>=4.4.1->widgetsnbextension~=3.5.0->ipywidgets>=7.3.0; extra == \"visualization\"->qiskit[visualization]) (0.8.0)\n",
      "Requirement already satisfied: terminado>=0.8.3 in /home/adam/anaconda3/envs/qiskit_test2/lib/python3.8/site-packages (from notebook>=4.4.1->widgetsnbextension~=3.5.0->ipywidgets>=7.3.0; extra == \"visualization\"->qiskit[visualization]) (0.9.1)\n",
      "Requirement already satisfied: Send2Trash in /home/adam/anaconda3/envs/qiskit_test2/lib/python3.8/site-packages (from notebook>=4.4.1->widgetsnbextension~=3.5.0->ipywidgets>=7.3.0; extra == \"visualization\"->qiskit[visualization]) (1.5.0)\n",
      "Requirement already satisfied: argon2-cffi in /home/adam/anaconda3/envs/qiskit_test2/lib/python3.8/site-packages (from notebook>=4.4.1->widgetsnbextension~=3.5.0->ipywidgets>=7.3.0; extra == \"visualization\"->qiskit[visualization]) (20.1.0)\n",
      "Requirement already satisfied: pycparser in /home/adam/anaconda3/envs/qiskit_test2/lib/python3.8/site-packages (from cffi!=1.11.3,>=1.8->cryptography>=1.3->requests-ntlm>=1.1.0->qiskit-ibmq-provider==0.11.1->qiskit[visualization]) (2.20)\n",
      "Requirement already satisfied: jupyterlab-pygments in /home/adam/anaconda3/envs/qiskit_test2/lib/python3.8/site-packages (from nbconvert->notebook>=4.4.1->widgetsnbextension~=3.5.0->ipywidgets>=7.3.0; extra == \"visualization\"->qiskit[visualization]) (0.1.2)\n",
      "Requirement already satisfied: defusedxml in /home/adam/anaconda3/envs/qiskit_test2/lib/python3.8/site-packages (from nbconvert->notebook>=4.4.1->widgetsnbextension~=3.5.0->ipywidgets>=7.3.0; extra == \"visualization\"->qiskit[visualization]) (0.6.0)\n",
      "Requirement already satisfied: entrypoints>=0.2.2 in /home/adam/anaconda3/envs/qiskit_test2/lib/python3.8/site-packages (from nbconvert->notebook>=4.4.1->widgetsnbextension~=3.5.0->ipywidgets>=7.3.0; extra == \"visualization\"->qiskit[visualization]) (0.3)\n",
      "Requirement already satisfied: mistune<2,>=0.8.1 in /home/adam/anaconda3/envs/qiskit_test2/lib/python3.8/site-packages (from nbconvert->notebook>=4.4.1->widgetsnbextension~=3.5.0->ipywidgets>=7.3.0; extra == \"visualization\"->qiskit[visualization]) (0.8.4)\n",
      "Requirement already satisfied: nbclient<0.6.0,>=0.5.0 in /home/adam/anaconda3/envs/qiskit_test2/lib/python3.8/site-packages (from nbconvert->notebook>=4.4.1->widgetsnbextension~=3.5.0->ipywidgets>=7.3.0; extra == \"visualization\"->qiskit[visualization]) (0.5.1)\n",
      "Requirement already satisfied: pandocfilters>=1.4.1 in /home/adam/anaconda3/envs/qiskit_test2/lib/python3.8/site-packages (from nbconvert->notebook>=4.4.1->widgetsnbextension~=3.5.0->ipywidgets>=7.3.0; extra == \"visualization\"->qiskit[visualization]) (1.4.3)\n",
      "Requirement already satisfied: bleach in /home/adam/anaconda3/envs/qiskit_test2/lib/python3.8/site-packages (from nbconvert->notebook>=4.4.1->widgetsnbextension~=3.5.0->ipywidgets>=7.3.0; extra == \"visualization\"->qiskit[visualization]) (3.2.1)\n",
      "Requirement already satisfied: testpath in /home/adam/anaconda3/envs/qiskit_test2/lib/python3.8/site-packages (from nbconvert->notebook>=4.4.1->widgetsnbextension~=3.5.0->ipywidgets>=7.3.0; extra == \"visualization\"->qiskit[visualization]) (0.4.4)\n",
      "Requirement already satisfied: MarkupSafe>=0.23 in /home/adam/anaconda3/envs/qiskit_test2/lib/python3.8/site-packages (from jinja2->notebook>=4.4.1->widgetsnbextension~=3.5.0->ipywidgets>=7.3.0; extra == \"visualization\"->qiskit[visualization]) (1.1.1)\n",
      "Requirement already satisfied: async-generator in /home/adam/anaconda3/envs/qiskit_test2/lib/python3.8/site-packages (from nbclient<0.6.0,>=0.5.0->nbconvert->notebook>=4.4.1->widgetsnbextension~=3.5.0->ipywidgets>=7.3.0; extra == \"visualization\"->qiskit[visualization]) (1.10)\n",
      "Requirement already satisfied: packaging in /home/adam/anaconda3/envs/qiskit_test2/lib/python3.8/site-packages (from bleach->nbconvert->notebook>=4.4.1->widgetsnbextension~=3.5.0->ipywidgets>=7.3.0; extra == \"visualization\"->qiskit[visualization]) (20.4)\n",
      "Requirement already satisfied: webencodings in /home/adam/anaconda3/envs/qiskit_test2/lib/python3.8/site-packages (from bleach->nbconvert->notebook>=4.4.1->widgetsnbextension~=3.5.0->ipywidgets>=7.3.0; extra == \"visualization\"->qiskit[visualization]) (0.5.1)\n",
      "Installing collected packages: mpmath, sympy, ply, numpy, networkx, scipy, retworkx, dill, psutil, fastjsonschema, python-constraint, qiskit-terra, cython, pybind11, qiskit-aer, lxml, urllib3, idna, chardet, requests, multitasking, pytz, pandas, yfinance, joblib, threadpoolctl, scikit-learn, qiskit-ignis, fastdtw, more-itertools, inflection, quandl, docplex, dlx, h5py, qiskit-aqua, websockets, cryptography, ntlm-auth, requests-ntlm, qiskit-ibmq-provider, kiwisolver, cycler, pillow, matplotlib, seaborn, pylatexenc, pydot, qiskit\n",
      "Successfully installed chardet-3.0.4 cryptography-3.2.1 cycler-0.10.0 cython-0.29.21 dill-0.3.3 dlx-1.0.4 docplex-2.16.196 fastdtw-0.3.4 fastjsonschema-2.14.5 h5py-3.1.0 idna-2.10 inflection-0.5.1 joblib-0.17.0 kiwisolver-1.3.1 lxml-4.6.1 matplotlib-3.3.3 more-itertools-8.6.0 mpmath-1.1.0 multitasking-0.0.9 networkx-2.5 ntlm-auth-1.5.0 numpy-1.19.4 pandas-1.1.4 pillow-8.0.1 ply-3.11 psutil-5.7.3 pybind11-2.6.1 pydot-1.4.1 pylatexenc-2.8 python-constraint-1.4.0 pytz-2020.4 qiskit-0.23.1 qiskit-aer-0.7.1 qiskit-aqua-0.8.1 qiskit-ibmq-provider-0.11.1 qiskit-ignis-0.5.1 qiskit-terra-0.16.1 quandl-3.5.3 requests-2.25.0 requests-ntlm-1.1.0 retworkx-0.6.0 scikit-learn-0.23.2 scipy-1.5.4 seaborn-0.11.0 sympy-1.6.2 threadpoolctl-2.1.0 urllib3-1.26.2 websockets-8.1 yfinance-0.1.55\n"
     ]
    }
   ],
   "source": [
    "!pip install qiskit[visualization]"
   ]
  },
  {
   "cell_type": "markdown",
   "metadata": {},
   "source": [
    "__*Restart the kernel*__ (check \"Kernel\" menu) to apply the changes to the current notebook."
   ]
  },
  {
   "cell_type": "markdown",
   "metadata": {},
   "source": [
    "<hr id=\"tips\">\n",
    "\n",
    "### Tips\n",
    "\n",
    "_Any terminal/shell command can be executed in the notebook cells by putting exclamation mark (!) to the beginning of the command._\n",
    "\n",
    "_$\\rightarrow$ For updating Qiskit version, execute the following command on a code cell_\n",
    "\n",
    "    !pip install -U qiskit --user\n",
    "    \n",
    "_$\\rightarrow$ For uninstall Qiskit, execute the following command on a code cell_\n",
    "\n",
    "    !pip uninstall qiskit -y"
   ]
  },
  {
   "cell_type": "code",
   "execution_count": null,
   "metadata": {},
   "outputs": [],
   "source": [
    "#!pip install -U qiskit --user\n",
    "#!pip uninstall qiskit -y"
   ]
  },
  {
   "cell_type": "markdown",
   "metadata": {},
   "source": [
    "<hr id=\"test\">\n",
    "\n",
    "### Execute an example quantum program\n"
   ]
  },
  {
   "cell_type": "markdown",
   "metadata": {},
   "source": [
    "1) Create a quantum circuit"
   ]
  },
  {
   "cell_type": "code",
   "execution_count": 3,
   "metadata": {},
   "outputs": [
    {
     "name": "stdout",
     "output_type": "stream",
     "text": [
      "The execution of the cell was completed, and the circuit was created :)\n"
     ]
    }
   ],
   "source": [
    "# import the objects from qiskit\n",
    "from qiskit import QuantumRegister, ClassicalRegister, QuantumCircuit, execute, Aer\n",
    "from random import randrange\n",
    "\n",
    "# create a quantum circuit and its register objects\n",
    "qreg = QuantumRegister(2) # quantum register with two quantum bits\n",
    "creg = ClassicalRegister(2) # classical register with two classical bit\n",
    "circuit = QuantumCircuit(qreg,creg) # quantum circuit composed by a quantum register and a classical register\n",
    "\n",
    "# apply a Hadamard gate to the first qubit\n",
    "circuit.h(qreg[0])\n",
    "\n",
    "# set the second qubit to state |1>\n",
    "circuit.x(qreg[1])\n",
    "\n",
    "# apply CNOT(first_qubit,second_qubit)\n",
    "circuit.cx(qreg[0],qreg[1])\n",
    "\n",
    "# measure the both qubits\n",
    "circuit.measure(qreg,creg)\n",
    "\n",
    "print(\"The execution of the cell was completed, and the circuit was created :)\")"
   ]
  },
  {
   "cell_type": "markdown",
   "metadata": {},
   "source": [
    "2) Draw the circuit\n",
    "\n",
    "_Run the cell once more if the figure is not shown_"
   ]
  },
  {
   "cell_type": "code",
   "execution_count": 4,
   "metadata": {},
   "outputs": [
    {
     "data": {
      "image/png": "[encoded data removed]",
      "text/plain": [
       "<Figure size 340.233x204.68 with 1 Axes>"
      ]
     },
     "execution_count": 4,
     "metadata": {},
     "output_type": "execute_result"
    }
   ],
   "source": [
    "# draw circuit \n",
    "circuit.draw(output='mpl')\n",
    "\n",
    "# the output will be a \"matplotlib.Figure\" object"
   ]
  },
  {
   "cell_type": "markdown",
   "metadata": {},
   "source": [
    "3) Execute the circuit 1024 times in the local simulator and print the observed the outcomes"
   ]
  },
  {
   "cell_type": "code",
   "execution_count": 5,
   "metadata": {},
   "outputs": [
    {
     "name": "stdout",
     "output_type": "stream",
     "text": [
      "{'01': 486, '10': 538}\n"
     ]
    }
   ],
   "source": [
    "## execute the circuit 1024 times\n",
    "job = execute(circuit,Aer.get_backend('qasm_simulator'),shots=1024)\n",
    "# get the result\n",
    "counts = job.result().get_counts(circuit)\n",
    "print(counts)"
   ]
  },
  {
   "cell_type": "code",
   "execution_count": null,
   "metadata": {},
   "outputs": [],
   "source": []
  }
 ],
 "metadata": {
  "kernelspec": {
   "display_name": "Python 3",
   "language": "python",
   "name": "python3"
  },
  "language_info": {
   "codemirror_mode": {
    "name": "ipython",
    "version": 3
   },
   "file_extension": ".py",
   "mimetype": "text/x-python",
   "name": "python",
   "nbconvert_exporter": "python",
   "pygments_lexer": "ipython3",
   "version": "3.8.5"
  }
 },
 "nbformat": 4,
 "nbformat_minor": 2
}
